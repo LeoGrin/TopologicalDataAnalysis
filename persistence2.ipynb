{
 "cells": [
  {
   "cell_type": "markdown",
   "metadata": {},
   "source": [
    "# Persistence"
   ]
  },
  {
   "cell_type": "markdown",
   "metadata": {},
   "source": [
    "## Simplex def"
   ]
  },
  {
   "cell_type": "code",
   "execution_count": 1,
   "metadata": {},
   "outputs": [],
   "source": [
    "class Simplex:\n",
    "    def __init__(self, val, dim, vert):\n",
    "        self.val = val\n",
    "        self.dim = dim\n",
    "        self.vert = vert\n",
    "        \n",
    "    def __eq__(self, simplex2):\n",
    "        return self.vetices.__eq__(simplex2.verticles)\n",
    "    \n",
    "\n",
    "    def toString(self):\n",
    "        return \"val = {}; dim = {}; vert = {}\".format(self.val, self.dim, \"/\".join(self.vert))"
   ]
  },
  {
   "cell_type": "markdown",
   "metadata": {},
   "source": [
    "## Load the data"
   ]
  },
  {
   "cell_type": "code",
   "execution_count": 2,
   "metadata": {},
   "outputs": [
    {
     "ename": "FileNotFoundError",
     "evalue": "[Errno 2] No such file or directory: 'filtrations/test_filtration2.txt'",
     "output_type": "error",
     "traceback": [
      "\u001b[0;31m---------------------------------------------------------------------------\u001b[0m",
      "\u001b[0;31mFileNotFoundError\u001b[0m                         Traceback (most recent call last)",
      "\u001b[0;32m<ipython-input-2-bb87948f1836>\u001b[0m in \u001b[0;36m<module>\u001b[0;34m\u001b[0m\n\u001b[1;32m      1\u001b[0m \u001b[0msimplex_list\u001b[0m \u001b[0;34m=\u001b[0m \u001b[0;34m[\u001b[0m\u001b[0;34m]\u001b[0m\u001b[0;34m\u001b[0m\u001b[0;34m\u001b[0m\u001b[0m\n\u001b[1;32m      2\u001b[0m \u001b[0;34m\u001b[0m\u001b[0m\n\u001b[0;32m----> 3\u001b[0;31m \u001b[0;32mwith\u001b[0m \u001b[0mopen\u001b[0m\u001b[0;34m(\u001b[0m\u001b[0;34m\"filtrations/test_filtration2.txt\"\u001b[0m\u001b[0;34m,\u001b[0m \u001b[0;34m\"r\"\u001b[0m\u001b[0;34m)\u001b[0m \u001b[0;32mas\u001b[0m \u001b[0mtest_filtration\u001b[0m\u001b[0;34m:\u001b[0m\u001b[0;34m\u001b[0m\u001b[0;34m\u001b[0m\u001b[0m\n\u001b[0m\u001b[1;32m      4\u001b[0m     \u001b[0;32mfor\u001b[0m \u001b[0mline\u001b[0m \u001b[0;32min\u001b[0m \u001b[0mtest_filtration\u001b[0m\u001b[0;34m.\u001b[0m\u001b[0mreadlines\u001b[0m\u001b[0;34m(\u001b[0m\u001b[0;34m)\u001b[0m\u001b[0;34m:\u001b[0m\u001b[0;34m\u001b[0m\u001b[0;34m\u001b[0m\u001b[0m\n\u001b[1;32m      5\u001b[0m         \u001b[0minputs\u001b[0m \u001b[0;34m=\u001b[0m \u001b[0mline\u001b[0m\u001b[0;34m.\u001b[0m\u001b[0mstrip\u001b[0m\u001b[0;34m(\u001b[0m\u001b[0;34m)\u001b[0m\u001b[0;34m.\u001b[0m\u001b[0msplit\u001b[0m\u001b[0;34m(\u001b[0m\u001b[0;34m\" \"\u001b[0m\u001b[0;34m)\u001b[0m\u001b[0;34m\u001b[0m\u001b[0;34m\u001b[0m\u001b[0m\n",
      "\u001b[0;31mFileNotFoundError\u001b[0m: [Errno 2] No such file or directory: 'filtrations/test_filtration2.txt'"
     ]
    }
   ],
   "source": [
    "simplex_list = []\n",
    "\n",
    "with open(\"filtrations/test_filtration2.txt\", \"r\") as test_filtration:\n",
    "    for line in test_filtration.readlines():        \n",
    "        inputs = line.strip().split(\" \")\n",
    "        f, dim = float(inputs[0]), int(inputs[1])\n",
    "        vertices = sorted(list(map(int, inputs[2:]))) # vertices are sorted so we can compare between list of vertices\n",
    "        simplex_list.append(Simplex(f, dim, vertices))\n",
    "        \n",
    "simplex_list = sorted(simplex_list, key=lambda x:(x.val, x.dim)) # sort according to val and then to dim (to have a simplicial complex)\n",
    "\n",
    "\n",
    "dic_simplex = {} # maps a simplex (as a sorted tuple of vertices) to its indentifier \n",
    "for i, s in enumerate(simplex_list):\n",
    "    dic_simplex[tuple(s.vert)] = i\n",
    "        "
   ]
  },
  {
   "cell_type": "markdown",
   "metadata": {},
   "source": [
    "## Boundary matrix"
   ]
  },
  {
   "cell_type": "code",
   "execution_count": null,
   "metadata": {},
   "outputs": [],
   "source": [
    "def compute_boundary(simplex, dic_simplex):\n",
    "    \"\"\"return the identifiers of the boundaries of the simplex\"\"\"\n",
    "    boundaries_id = []\n",
    "    for i in range(simplex.dim + 1):\n",
    "        new_vert = list(simplex.vert)\n",
    "        del new_vert[i]\n",
    "        if len(new_vert) > 0:\n",
    "            boundaries_id.append(dic_simplex[tuple(sorted(new_vert))]) # new_vert must be sorted because we compare tuple (it's actually already sorted but we sort it for code clarity)\n",
    "    return boundaries_id\n",
    "        "
   ]
  },
  {
   "cell_type": "code",
   "execution_count": null,
   "metadata": {},
   "outputs": [],
   "source": [
    "# We define low(i) = the maximal non-zero element for the i-th simplex.\n",
    "\n",
    "# dic_low[k] = list containing all the simplices i whose low(i) is in the k-th row, i.e. corresponds to the k-th simplex\n",
    "# dic_boundaries[i] = list containing all the non-zero boundary simplices from the i-th simplex\n",
    "dic_low, dic_boundaries = {},{} \n",
    "for i in range(len(simplex_list)):\n",
    "    dic_boundaries[i] = [] # initialization\n",
    "    dic_low[i] = []\n",
    "\n",
    "for simplex in simplex_list:\n",
    "    \n",
    "    simplex_vert = tuple(sorted(simplex.vert))\n",
    "    simplex_coord = dic_simplex[simplex_vert] #identifier of the simplex\n",
    "    boundaries_id = compute_boundary(simplex, dic_simplex)\n",
    "    if len(boundaries_id) > 0:\n",
    "        dic_boundaries[simplex_coord] = boundaries_id\n",
    "        low_i = max(boundaries_id)\n",
    "        # Check if they're already another simplex with the same low(i)\n",
    "        dic_low[low_i] = dic_low[low_i] + [simplex_coord] if (low_i in dic_low.keys()) else [simplex_coord] \n",
    "    for boundary_id in boundaries_id:\n",
    "         #identifier of the boundary simplex\n",
    "        dic_coord[(simplex_coord, boundary_id)] = 1\n",
    "        \n"
   ]
  },
  {
   "cell_type": "code",
   "execution_count": null,
   "metadata": {},
   "outputs": [],
   "source": [
    "dic_boundaries"
   ]
  },
  {
   "cell_type": "markdown",
   "metadata": {},
   "source": [
    "## Reduction"
   ]
  },
  {
   "cell_type": "code",
   "execution_count": null,
   "metadata": {},
   "outputs": [],
   "source": [
    "def sum_boundaries(boundaries1, boundaries2):\n",
    "    \"\"\"sum the list of boundaries of 2 simplex in Z/2Z\n",
    "    Complexity could be improved\"\"\"\n",
    "    res = []\n",
    "    for b in boundaries1:\n",
    "        if b not in boundaries2:\n",
    "            res.append(b)\n",
    "    for b in boundaries2:\n",
    "        if b not in res and b not in boundaries1:\n",
    "            res.append(b)\n",
    "    return res\n",
    "        \n",
    "\n",
    "def gaussian_elim(dic_low, dic_boundaries):\n",
    "    pivots = []\n",
    "    for i in reversed(range(0, len(dic_boundaries.keys()))):\n",
    "        if i in dic_low.keys():\n",
    "            columns = sorted(dic_low[i])\n",
    "            if len(columns) > 0:  # if there are columns to kill\n",
    "                pivot_column = columns[0]\n",
    "                pivots.append(pivot_column)\n",
    "                for column in columns[1:]:\n",
    "                    # sum in Z/2Z\n",
    "                    dic_boundaries[column] = sum_boundaries(dic_boundaries[column], dic_boundaries[pivot_column])\n",
    "                    if len(dic_boundaries[column]) > 0: \n",
    "                        # update the pivot\n",
    "                        new_pivot = max(dic_boundaries[column])\n",
    "                        if new_pivot in dic_low.keys():\n",
    "                            dic_low[new_pivot].append(column)\n",
    "                        else:\n",
    "                            dic_low[new_pivot] = [column]\n",
    "                            \n",
    "    return pivots, dic_boundaries\n",
    "            \n",
    "pivots, dic_boundaries = gaussian_elim(dic_low, dic_boundaries)"
   ]
  },
  {
   "cell_type": "code",
   "execution_count": null,
   "metadata": {},
   "outputs": [],
   "source": [
    "dic_boundaries"
   ]
  },
  {
   "cell_type": "markdown",
   "metadata": {},
   "source": [
    "## Bar code"
   ]
  },
  {
   "cell_type": "code",
   "execution_count": null,
   "metadata": {},
   "outputs": [],
   "source": [
    "def bar_codes(simplex_list, dic_boundaries):\n",
    "    threshold = 0.05\n",
    "\n",
    "    bar_codes = {}\n",
    "    for i, s in enumerate(simplex_list):\n",
    "        if len(dic_boundaries[i]) == 0: #create a cycle\n",
    "            bar_codes[i] = None\n",
    "        else: #kill a cycle (create a boundary)\n",
    "            k = max(dic_boundaries[i]) # pivot\n",
    "            if k in bar_codes.keys():\n",
    "                bar_codes[k] = i\n",
    "\n",
    "    for s1_id in bar_codes.keys():\n",
    "        dim = simplex_list[s1_id].dim\n",
    "        s2_id = bar_codes[s1_id]\n",
    "        s1_val = simplex_list[s1_id].val\n",
    "        if s2_id: # the cycle as been killed\n",
    "            s2_val = simplex_list[s2_id].val\n",
    "            if s2_val - s1_val > threshold:\n",
    "                print(dim, s1_val, s2_val)\n",
    "        else: # the cycle has never been killed\n",
    "            s2_val = \"inf\"\n",
    "            print(dim, s1_val, s2_val)\n",
    "        \n",
    "bar_codes(simplex_list, dic_boundaries)"
   ]
  },
  {
   "cell_type": "code",
   "execution_count": 85,
   "metadata": {},
   "outputs": [],
   "source": [
    "import itertools as itertools\n",
    "\n",
    "def top_simplices_from_figure(list_vertices):\n",
    "    # Useful function to list the top-dimensional subsimplices from the Moebius band, the torus and the Klein bottle.\n",
    "    \"\"\"\n",
    "    Input: 2D-list from the vertices, row by row\n",
    "    Output: set from the top-dimensional simplices (here the 2D simplices), i.e. set of list of vertices\n",
    "    \"\"\"\n",
    "    top_simplices = [] \n",
    "    for i in range(len(list_vertices) - 1):\n",
    "        for j in range(len(list_vertices[i]) - 1):\n",
    "            top_simplices.append((list_vertices[i][j],list_vertices[i][j+1],list_vertices[i+1][j]))\n",
    "            top_simplices.append((list_vertices[i][j+1],list_vertices[i+1][j],list_vertices[i+1][j+1]))\n",
    "    return set(top_simplices)\n",
    "\n",
    "def subsimplices_from_simplex(simplex_vert):\n",
    "    \"\"\"\n",
    "    Input: tuple from the vertices of the simplex\n",
    "    Output: set from the subsimplices, i.e. set of tuple of vertices. Includes the input simplex.\n",
    "    \"\"\"\n",
    "    return set(itertools.chain(*[itertools.combinations(simplex_vert, dim) for dim in range(1,len(simplex_vert) + 1)]))\n",
    "\n",
    "\n",
    "def from_simplices_to_filtration(simplices_set):\n",
    "    \"\"\"\n",
    "    Input: set from the simplices, i.e. set of tuples of vertices\n",
    "    Output: filtration = list from the simplices in crescent order for the dimension\n",
    "    (according to the syntax \n",
    "        Time of appearance in the filtration | Dimension | List from the vertices\n",
    "    )\n",
    "    In our filtration : \n",
    "        Time of appearance(simplex K) = dim(simplex K)\n",
    "    \"\"\"\n",
    "    all_simplices = simplices_set.copy()\n",
    "    for simplex_vert in simplices_set:\n",
    "        new_simplices = subsimplices_from_simplex(simplex_vert)\n",
    "        for new_simplex in new_simplices:\n",
    "            all_simplices.add(new_simplex)\n",
    "    all_simplices = sorted(list(all_simplices), key = lambda x:(len(x),x[0]))\n",
    "    \n",
    "    filtration = []\n",
    "    for ord_simplex in all_simplices:\n",
    "        new_filtration = str(len(ord_simplex)-1) + str(' ') + str(len(ord_simplex)-1) + str(' ') + \"\".join(str(ord_simplex[i]) + str(' ') for i in range(len(ord_simplex)))\n",
    "        filtration.append(new_filtration)\n",
    "    return filtration\n",
    "    \n",
    "def compute_filtrations(d):\n",
    "    # Compute all the required filtrations\n",
    "    \"\"\"\n",
    "    Input: wanted dimension for the d-ball and for the d-sphere\n",
    "    Output: list with all the required filtrations, according to the syntax given in \"from simplices to filtration\"\n",
    "    \"\"\"\n",
    "    all_filtrations = []\n",
    "    \n",
    "    # For the d-ball\n",
    "    all_filtrations.append(from_simplices_to_filtration(subsimplices_from_simplex(top_simplex_d_ball(d))))\n",
    "    \n",
    "    # For the d-sphere    \n",
    "    all_filtrations.append(from_simplices_to_filtration(subsimplices_from_simplex(top_simplex_d_ball(d)))[:-1]) # We remove the (d+1) simplex\n",
    "\n",
    "    # For the Moebius band\n",
    "    all_filtrations.append(from_simplices_to_filtration(top_simplices_from_figure(triangulation_Moebius_band())))\n",
    "    \n",
    "    # For the torus\n",
    "    all_filtrations.append(from_simplices_to_filtration(top_simplices_from_figure(triangulation_torus())))\n",
    "    \n",
    "    # For the Klein bottle\n",
    "    all_filtrations.append(from_simplices_to_filtration(top_simplices_from_figure(triangulation_Klein_bottle())))\n",
    "\n",
    "    # For the projective plane\n",
    "    all_filtrations.append(from_simplices_to_filtration(top_simplices_projective_plane()))\n",
    "    \n",
    "    return all_filtrations\n",
    "    \n",
    "def triangulation_Moebius_band():\n",
    "    \"\"\"\n",
    "    Output: 2D-list from the vertices, row by row, corresponding to a triangulation from the Moebius band\n",
    "    \"\"\"\n",
    "    return [['A','B','C','D'],['D','E','F','A']]\n",
    "\n",
    "def triangulation_torus():\n",
    "    \"\"\"\n",
    "    Output: 2D-list from the vertices, row by row, corresponding to a triangulation from the torus\n",
    "    \"\"\"\n",
    "    return [['A','B','C','A'],['D','E','F','D'],['G','H','I','G'],['A','B','C','A']]\n",
    "\n",
    "def triangulation_Klein_bottle():\n",
    "    \"\"\"\n",
    "    Output: 2D-list from the vertices, row by row, corresponding to a triangulation from the Klein bottle\n",
    "    \"\"\"\n",
    "    return [['A','B','C','A'],['D','E','F','G'],['G','H','I','D'],['A','B','C','A']]\n",
    "\n",
    "def top_simplices_projective_plane():\n",
    "    \"\"\"\n",
    "    Output: set from the top-dimensional simplices (here the 2D simplices from a triangulation from the 2D projective plane), i.e. set of list of vertices\n",
    "    \"\"\"\n",
    "    return set([('A','B','D'),('B','C','D'),('C','D','E'),('C','E','A'),('A','E','B'),('B','E','F'),('B','C','F'),('A','F','C'),('A','F','D'),('D','E','F')])\n",
    "\n",
    "def top_simplex_d_ball(d):\n",
    "    \"\"\"\n",
    "    Input: the dimension d\n",
    "    Output: tuple of the (d+1) vertices from the top-dimensional simplex of the d-ball\n",
    "    \"\"\"\n",
    "    assert d < 11 # We could have gone further, one can easily modify it by extending list_max_vertices\n",
    "    list_vertices = ['A','B','C','D','E','F','G','H','I','J','K']\n",
    "    return tuple(list_vertices[:d+1])\n"
   ]
  },
  {
   "cell_type": "code",
   "execution_count": null,
   "metadata": {},
   "outputs": [],
   "source": []
  },
  {
   "cell_type": "code",
   "execution_count": null,
   "metadata": {},
   "outputs": [],
   "source": []
  }
 ],
 "metadata": {
  "kernelspec": {
   "display_name": "Python 3",
   "language": "python",
   "name": "python3"
  },
  "language_info": {
   "codemirror_mode": {
    "name": "ipython",
    "version": 3
   },
   "file_extension": ".py",
   "mimetype": "text/x-python",
   "name": "python",
   "nbconvert_exporter": "python",
   "pygments_lexer": "ipython3",
   "version": "3.7.3"
  }
 },
 "nbformat": 4,
 "nbformat_minor": 2
}
