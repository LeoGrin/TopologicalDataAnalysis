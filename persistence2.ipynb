{
 "cells": [
  {
   "cell_type": "markdown",
   "metadata": {},
   "source": [
    "# Persistence"
   ]
  },
  {
   "cell_type": "markdown",
   "metadata": {},
   "source": [
    "## Simplex def"
   ]
  },
  {
   "cell_type": "code",
   "execution_count": 617,
   "metadata": {},
   "outputs": [],
   "source": [
    "class Simplex:\n",
    "    def __init__(self, val, dim, vert):\n",
    "        self.val = val\n",
    "        self.dim = dim\n",
    "        self.vert = vert\n",
    "        \n",
    "    def __eq__(self, simplex2):\n",
    "        return self.vetices.__eq__(simplex2.verticles)\n",
    "    \n",
    "\n",
    "    def toString(self):\n",
    "        return \"val = {}; dim = {}; vert = {}\".format(self.val, self.dim, \"/\".join(self.vert))"
   ]
  },
  {
   "cell_type": "markdown",
   "metadata": {},
   "source": [
    "## Load the data"
   ]
  },
  {
   "cell_type": "code",
   "execution_count": 618,
   "metadata": {},
   "outputs": [],
   "source": [
    "simplex_list = []\n",
    "\n",
    "with open(\"filtrations/test_filtration2.txt\", \"r\") as test_filtration:\n",
    "    for line in test_filtration.readlines():        \n",
    "        inputs = line.strip().split(\" \")\n",
    "        f, dim = float(inputs[0]), int(inputs[1])\n",
    "        vertices = sorted(list(map(int, inputs[2:]))) # vertices are sorted so we can compare between list of vertices\n",
    "        simplex_list.append(Simplex(f, dim, vertices))\n",
    "        \n",
    "simplex_list = sorted(simplex_list, key=lambda x:(x.val, x.dim)) # sort according to val and then to dim (to have a simplicial complex)\n",
    "\n",
    "\n",
    "dic_simplex = {} # maps a simplex (as a sorted tuple of vertices) to its indentifier \n",
    "for i, s in enumerate(simplex_list):\n",
    "    dic_simplex[tuple(s.vert)] = i\n",
    "        "
   ]
  },
  {
   "cell_type": "markdown",
   "metadata": {},
   "source": [
    "## Boundary matrix"
   ]
  },
  {
   "cell_type": "code",
   "execution_count": 619,
   "metadata": {},
   "outputs": [],
   "source": [
    "def compute_boundary(simplex, dic_simplex):\n",
    "    \"\"\"return the identifiers of the boundaries of the simplex\"\"\"\n",
    "    boundaries_id = []\n",
    "    for i in range(simplex.dim + 1):\n",
    "        new_vert = list(simplex.vert)\n",
    "        del new_vert[i]\n",
    "        if len(new_vert) > 0:\n",
    "            boundaries_id.append(dic_simplex[tuple(sorted(new_vert))]) # new_vert must be sorted because we compare tuple (it's actually already sorted but we sort it for code clarity)\n",
    "    return boundaries_id\n",
    "        "
   ]
  },
  {
   "cell_type": "code",
   "execution_count": 620,
   "metadata": {},
   "outputs": [],
   "source": [
    "# We define low(i) = the maximal non-zero element for the i-th simplex.\n",
    "\n",
    "# dic_low[k] = list containing all the simplices i whose low(i) is in the k-th row, i.e. corresponds to the k-th simplex\n",
    "# dic_boundaries[i] = list containing all the non-zero boundary simplices from the i-th simplex\n",
    "dic_low, dic_boundaries = {},{} \n",
    "for i in range(len(simplex_list)):\n",
    "    dic_boundaries[i] = [] # initialization\n",
    "    dic_low[i] = []\n",
    "\n",
    "for simplex in simplex_list:\n",
    "    \n",
    "    simplex_vert = tuple(sorted(simplex.vert))\n",
    "    simplex_coord = dic_simplex[simplex_vert] #identifier of the simplex\n",
    "    boundaries_id = compute_boundary(simplex, dic_simplex)\n",
    "    if len(boundaries_id) > 0:\n",
    "        dic_boundaries[simplex_coord] = boundaries_id\n",
    "        low_i = max(boundaries_id)\n",
    "        # Check if they're already another simplex with the same low(i)\n",
    "        dic_low[low_i] = dic_low[low_i] + [simplex_coord] if (low_i in dic_low.keys()) else [simplex_coord] \n",
    "    for boundary_id in boundaries_id:\n",
    "         #identifier of the boundary simplex\n",
    "        dic_coord[(simplex_coord, boundary_id)] = 1\n",
    "        \n"
   ]
  },
  {
   "cell_type": "code",
   "execution_count": 621,
   "metadata": {},
   "outputs": [
    {
     "data": {
      "text/plain": [
       "{0: [], 1: [], 2: [], 3: [1, 0], 4: [2, 1], 5: [2, 0], 6: [4, 5, 3]}"
      ]
     },
     "execution_count": 621,
     "metadata": {},
     "output_type": "execute_result"
    }
   ],
   "source": [
    "dic_boundaries"
   ]
  },
  {
   "cell_type": "markdown",
   "metadata": {},
   "source": [
    "## Reduction"
   ]
  },
  {
   "cell_type": "code",
   "execution_count": 622,
   "metadata": {},
   "outputs": [],
   "source": [
    "def sum_boundaries(boundaries1, boundaries2):\n",
    "    \"\"\"sum the list of boundaries of 2 simplex in Z/2Z\n",
    "    Complexity could be improved\"\"\"\n",
    "    res = []\n",
    "    for b in boundaries1:\n",
    "        if b not in boundaries2:\n",
    "            res.append(b)\n",
    "    for b in boundaries2:\n",
    "        if b not in res and b not in boundaries1:\n",
    "            res.append(b)\n",
    "    return res\n",
    "        \n",
    "\n",
    "def gaussian_elim(dic_low, dic_boundaries):\n",
    "    pivots = []\n",
    "    for i in reversed(range(0, len(dic_boundaries.keys()))):\n",
    "        if i in dic_low.keys():\n",
    "            columns = sorted(dic_low[i])\n",
    "            if len(columns) > 0:  # if there are columns to kill\n",
    "                pivot_column = columns[0]\n",
    "                pivots.append(pivot_column)\n",
    "                for column in columns[1:]:\n",
    "                    # sum in Z/2Z\n",
    "                    dic_boundaries[column] = sum_boundaries(dic_boundaries[column], dic_boundaries[pivot_column])\n",
    "                    if len(dic_boundaries[column]) > 0: \n",
    "                        # update the pivot\n",
    "                        new_pivot = max(dic_boundaries[column])\n",
    "                        if new_pivot in dic_low.keys():\n",
    "                            dic_low[new_pivot].append(column)\n",
    "                        else:\n",
    "                            dic_low[new_pivot] = [column]\n",
    "                            \n",
    "    return pivots, dic_boundaries\n",
    "            \n",
    "pivots, dic_boundaries = gaussian_elim(dic_low, dic_boundaries)"
   ]
  },
  {
   "cell_type": "code",
   "execution_count": 623,
   "metadata": {},
   "outputs": [
    {
     "data": {
      "text/plain": [
       "{0: [], 1: [], 2: [], 3: [1, 0], 4: [2, 1], 5: [], 6: [4, 5, 3]}"
      ]
     },
     "execution_count": 623,
     "metadata": {},
     "output_type": "execute_result"
    }
   ],
   "source": [
    "dic_boundaries"
   ]
  },
  {
   "cell_type": "markdown",
   "metadata": {},
   "source": [
    "## Bar code"
   ]
  },
  {
   "cell_type": "code",
   "execution_count": 624,
   "metadata": {},
   "outputs": [
    {
     "name": "stdout",
     "output_type": "stream",
     "text": [
      "0 1.0 inf\n",
      "0 2.0 4.0\n",
      "0 3.0 5.0\n",
      "1 6.0 7.0\n"
     ]
    }
   ],
   "source": [
    "def bar_codes(simplex_list, dic_boundaries):\n",
    "    threshold = 0.05\n",
    "\n",
    "    bar_codes = {}\n",
    "    for i, s in enumerate(simplex_list):\n",
    "        if len(dic_boundaries[i]) == 0: #create a cycle\n",
    "            bar_codes[i] = None\n",
    "        else: #kill a cycle (create a boundary)\n",
    "            k = max(dic_boundaries[i]) # pivot\n",
    "            if k in bar_codes.keys():\n",
    "                bar_codes[k] = i\n",
    "\n",
    "    for s1_id in bar_codes.keys():\n",
    "        dim = simplex_list[s1_id].dim\n",
    "        s2_id = bar_codes[s1_id]\n",
    "        s1_val = simplex_list[s1_id].val\n",
    "        if s2_id: # the cycle as been killed\n",
    "            s2_val = simplex_list[s2_id].val\n",
    "            if s2_val - s1_val > threshold:\n",
    "                print(dim, s1_val, s2_val)\n",
    "        else: # the cycle has never been killed\n",
    "            s2_val = \"inf\"\n",
    "            print(dim, s1_val, s2_val)\n",
    "        \n",
    "bar_codes(simplex_list, dic_boundaries)"
   ]
  },
  {
   "cell_type": "code",
   "execution_count": null,
   "metadata": {},
   "outputs": [],
   "source": []
  },
  {
   "cell_type": "code",
   "execution_count": null,
   "metadata": {},
   "outputs": [],
   "source": []
  },
  {
   "cell_type": "code",
   "execution_count": null,
   "metadata": {},
   "outputs": [],
   "source": []
  },
  {
   "cell_type": "code",
   "execution_count": null,
   "metadata": {},
   "outputs": [],
   "source": []
  }
 ],
 "metadata": {
  "kernelspec": {
   "display_name": "Python 3",
   "language": "python",
   "name": "python3"
  },
  "language_info": {
   "codemirror_mode": {
    "name": "ipython",
    "version": 3
   },
   "file_extension": ".py",
   "mimetype": "text/x-python",
   "name": "python",
   "nbconvert_exporter": "python",
   "pygments_lexer": "ipython3",
   "version": "3.7.0"
  }
 },
 "nbformat": 4,
 "nbformat_minor": 2
}
